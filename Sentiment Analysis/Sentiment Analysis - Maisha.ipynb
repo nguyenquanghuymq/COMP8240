{
 "cells": [
  {
   "cell_type": "code",
   "execution_count": 1,
   "metadata": {},
   "outputs": [
    {
     "name": "stderr",
     "output_type": "stream",
     "text": [
      "[nltk_data] Downloading package vader_lexicon to\n",
      "[nltk_data]     /Users/maishaanika/nltk_data...\n",
      "[nltk_data] Downloading package stopwords to\n",
      "[nltk_data]     /Users/maishaanika/nltk_data...\n",
      "[nltk_data]   Package stopwords is already up-to-date!\n",
      "[nltk_data] Downloading package wordnet to\n",
      "[nltk_data]     /Users/maishaanika/nltk_data...\n",
      "[nltk_data]   Unzipping corpora/wordnet.zip.\n",
      "[nltk_data] Downloading package punkt to\n",
      "[nltk_data]     /Users/maishaanika/nltk_data...\n",
      "[nltk_data]   Unzipping tokenizers/punkt.zip.\n"
     ]
    }
   ],
   "source": [
    "import re\n",
    "import nltk\n",
    "import pandas as pd\n",
    "from sklearn.preprocessing import LabelEncoder\n",
    "from sklearn.feature_extraction.text import TfidfVectorizer\n",
    "\n",
    "# Uncomment below cell to download these packages\n",
    "nltk.download('vader_lexicon')\n",
    "nltk.download('stopwords')\n",
    "nltk.download('wordnet')\n",
    "nltk.download('punkt')\n",
    "\n",
    "from nltk.corpus import stopwords\n",
    "from nltk.stem import WordNetLemmatizer\n",
    "lemma = WordNetLemmatizer()\n",
    "\n",
    "from sklearn.linear_model import LogisticRegression \n",
    "from sklearn.ensemble import RandomForestClassifier\n",
    "from sklearn.tree import DecisionTreeClassifier\n",
    "from sklearn.naive_bayes import MultinomialNB\n",
    "\n",
    "from sklearn.model_selection import train_test_split\n",
    "from sklearn.model_selection import GridSearchCV\n",
    "\n",
    "import seaborn as sns\n",
    "import matplotlib.pyplot as plt\n",
    "from sklearn.metrics import classification_report, confusion_matrix,accuracy_score, plot_confusion_matrix, precision_score, recall_score, f1_score"
   ]
  },
  {
   "cell_type": "code",
   "execution_count": 2,
   "metadata": {},
   "outputs": [
    {
     "data": {
      "text/html": [
       "<div>\n",
       "<style scoped>\n",
       "    .dataframe tbody tr th:only-of-type {\n",
       "        vertical-align: middle;\n",
       "    }\n",
       "\n",
       "    .dataframe tbody tr th {\n",
       "        vertical-align: top;\n",
       "    }\n",
       "\n",
       "    .dataframe thead th {\n",
       "        text-align: right;\n",
       "    }\n",
       "</style>\n",
       "<table border=\"1\" class=\"dataframe\">\n",
       "  <thead>\n",
       "    <tr style=\"text-align: right;\">\n",
       "      <th></th>\n",
       "      <th>sentiment</th>\n",
       "      <th>tweet_id</th>\n",
       "      <th>tweet</th>\n",
       "    </tr>\n",
       "  </thead>\n",
       "  <tbody>\n",
       "    <tr>\n",
       "      <th>0</th>\n",
       "      <td>neg</td>\n",
       "      <td>1</td>\n",
       "      <td>@bullyosullivan oh no! so sorry about your pet...</td>\n",
       "    </tr>\n",
       "    <tr>\n",
       "      <th>1</th>\n",
       "      <td>neg</td>\n",
       "      <td>2</td>\n",
       "      <td>@anneaam you should! i love prison break.i onl...</td>\n",
       "    </tr>\n",
       "    <tr>\n",
       "      <th>2</th>\n",
       "      <td>neg</td>\n",
       "      <td>3</td>\n",
       "      <td>i saw some really nice pair of shoess.. couldn...</td>\n",
       "    </tr>\n",
       "    <tr>\n",
       "      <th>3</th>\n",
       "      <td>neg</td>\n",
       "      <td>4</td>\n",
       "      <td>hihihi i had fun but my foot is still hurting!...</td>\n",
       "    </tr>\n",
       "    <tr>\n",
       "      <th>4</th>\n",
       "      <td>neg</td>\n",
       "      <td>5</td>\n",
       "      <td>sourish limbs is preventing me from gg out on ...</td>\n",
       "    </tr>\n",
       "  </tbody>\n",
       "</table>\n",
       "</div>"
      ],
      "text/plain": [
       "  sentiment  tweet_id                                              tweet\n",
       "0       neg         1  @bullyosullivan oh no! so sorry about your pet...\n",
       "1       neg         2  @anneaam you should! i love prison break.i onl...\n",
       "2       neg         3  i saw some really nice pair of shoess.. couldn...\n",
       "3       neg         4  hihihi i had fun but my foot is still hurting!...\n",
       "4       neg         5  sourish limbs is preventing me from gg out on ..."
      ]
     },
     "execution_count": 2,
     "metadata": {},
     "output_type": "execute_result"
    }
   ],
   "source": [
    "df = pd.read_csv(\"tweet_data- Maisha.csv\")\n",
    "df.head()"
   ]
  },
  {
   "cell_type": "code",
   "execution_count": 3,
   "metadata": {},
   "outputs": [],
   "source": [
    "X = df['tweet'].values\n",
    "y = df['sentiment'].values"
   ]
  },
  {
   "cell_type": "code",
   "execution_count": 4,
   "metadata": {},
   "outputs": [],
   "source": [
    "X_train, X_test, y_train, y_test = train_test_split(X, y, test_size=0.33, random_state=42)"
   ]
  },
  {
   "cell_type": "code",
   "execution_count": 5,
   "metadata": {},
   "outputs": [
    {
     "name": "stdout",
     "output_type": "stream",
     "text": [
      "[' @rossfootball: #purge anyone who congratulates another party for defeating labour. '\n",
      " 'crickey!!! time for bed. tomorrow should be interesting. may miss....again.  must....go....to sleep!!!'\n",
      " \"@alistardean celebrating - thx, twittering and baking a cake at the same time doesn't; mix \"\n",
      " 'hello world. how are you this evening? how is everyone '\n",
      " '@emfk for me tweetdeck skips almost 60% of tweets in my groups, i just see random ones '\n",
      " '1860-1876 16vol transactions of national association promotion social science  '\n",
      " \"#games #graphics new espn here's the kicker: vikings replace blair walsh  \"\n",
      " 'ran up &amp; down 3 miles of muddy hills safely yesterday morning, but stopped a soccer ball with my ankle last night &amp; it still hurts '\n",
      " '@makingthemoment ok ok it was mike, happy? '\n",
      " 'if only they had a &quot;its raining too hard, work is cancled&quot; day ']\n",
      "['neu' 'neg' 'pos' 'pos' 'pos' 'neu' 'neu' 'neg' 'pos' 'neg']\n"
     ]
    }
   ],
   "source": [
    "print(X_train[:10])\n",
    "print(y_train[:10])"
   ]
  },
  {
   "cell_type": "code",
   "execution_count": 6,
   "metadata": {},
   "outputs": [],
   "source": [
    "def clean_text(text):\n",
    "    totalStopwords = set([word.replace(\"'\",'') for word in stopwords.words('english')])\n",
    "    text = text.lower()\n",
    "    text = text.replace(\"'\",'')\n",
    "    text = re.sub('[^a-zA-Z]',' ',text)\n",
    "    words = text.split()\n",
    "    words = [lemma.lemmatize(word) for word in words if (word not in totalStopwords) and (len(word)>1)] # Remove stop words\n",
    "    text = \" \".join(words)\n",
    "    return text"
   ]
  },
  {
   "cell_type": "code",
   "execution_count": 7,
   "metadata": {},
   "outputs": [],
   "source": [
    "X_train = map(clean_text, X_train)\n",
    "X_test  = map(clean_text, X_test)"
   ]
  },
  {
   "cell_type": "code",
   "execution_count": 8,
   "metadata": {},
   "outputs": [],
   "source": [
    "X_train = list(X_train)\n",
    "X_test  = list(X_test)"
   ]
  },
  {
   "cell_type": "code",
   "execution_count": 9,
   "metadata": {},
   "outputs": [
    {
     "data": {
      "text/plain": [
       "['rossfootball purge anyone congratulates another party defeating labour',\n",
       " 'crickey time bed tomorrow interesting may miss must go sleep',\n",
       " 'alistardean celebrating thx twittering baking cake time mix',\n",
       " 'hello world evening everyone',\n",
       " 'emfk tweetdeck skip almost tweet group see random one',\n",
       " 'vol transaction national association promotion social science',\n",
       " 'game graphic new espn here kicker viking replace blair walsh',\n",
       " 'ran amp mile muddy hill safely yesterday morning stopped soccer ball ankle last night amp still hurt',\n",
       " 'makingthemoment ok ok mike happy',\n",
       " 'quot raining hard work cancled quot day']"
      ]
     },
     "execution_count": 9,
     "metadata": {},
     "output_type": "execute_result"
    }
   ],
   "source": [
    "X_train[:10]"
   ]
  },
  {
   "cell_type": "code",
   "execution_count": 10,
   "metadata": {},
   "outputs": [],
   "source": [
    "vectorizer = TfidfVectorizer()\n",
    "X_train = vectorizer.fit_transform(X_train)\n",
    "X_test = vectorizer.transform(X_test)"
   ]
  },
  {
   "cell_type": "code",
   "execution_count": 11,
   "metadata": {},
   "outputs": [],
   "source": [
    "# function for evaluation metrics precision, recall, f1 etc\n",
    "def modelEvaluation(predictions, y_test_set, model_name):\n",
    "    # Print model evaluation to predicted result    \n",
    "    print(\"==========\",model_name,\"==========\")\n",
    "    print (\"\\nAccuracy on validation set: {:.4f}\".format(accuracy_score(y_test_set, predictions)))    \n",
    "    print (\"\\nClassification report : \\n\", classification_report(y_test_set, predictions))\n",
    "    print (\"\\nConfusion Matrix : \\n\", confusion_matrix(y_test_set, predictions))\n",
    "    sns.heatmap(confusion_matrix(y_test_set, predictions),annot=True, fmt='g',cmap='viridis')\n",
    "    plt.tight_layout()\n",
    "    plt.show()\n",
    "    results = [accuracy_score(y_test_set, predictions), precision_score(y_test_set, predictions, average='macro'),\n",
    "              recall_score(y_test_set, predictions, average='macro'),f1_score(y_test_set, predictions, average='macro')]\n",
    "    return results"
   ]
  },
  {
   "cell_type": "code",
   "execution_count": 12,
   "metadata": {},
   "outputs": [
    {
     "name": "stdout",
     "output_type": "stream",
     "text": [
      "========== Decision tree ==========\n",
      "\n",
      "Accuracy on validation set: 0.6334\n",
      "\n",
      "Classification report : \n",
      "               precision    recall  f1-score   support\n",
      "\n",
      "         neg       0.61      0.65      0.63     21424\n",
      "         neu       0.77      0.67      0.72     10611\n",
      "         pos       0.60      0.60      0.60     20519\n",
      "\n",
      "    accuracy                           0.63     52554\n",
      "   macro avg       0.66      0.64      0.65     52554\n",
      "weighted avg       0.64      0.63      0.63     52554\n",
      "\n",
      "\n",
      "Confusion Matrix : \n",
      " [[13881   928  6615]\n",
      " [ 1791  7082  1738]\n",
      " [ 7038  1156 12325]]\n"
     ]
    },
    {
     "data": {
      "image/png": "[encoded data removed]",
      "text/plain": [
       "<Figure size 432x288 with 2 Axes>"
      ]
     },
     "metadata": {
      "needs_background": "light"
     },
     "output_type": "display_data"
    }
   ],
   "source": [
    "dt_model = DecisionTreeClassifier()\n",
    "dt_model.fit(X_train, y_train)\n",
    "pred_dt = dt_model.predict(X_test)\n",
    "result_dt = modelEvaluation(pred_dt, y_test, 'Decision tree')"
   ]
  },
  {
   "cell_type": "code",
   "execution_count": 13,
   "metadata": {},
   "outputs": [
    {
     "name": "stdout",
     "output_type": "stream",
     "text": [
      "========== Random Forest ==========\n",
      "\n",
      "Accuracy on validation set: 0.7189\n",
      "\n",
      "Classification report : \n",
      "               precision    recall  f1-score   support\n",
      "\n",
      "         neg       0.69      0.74      0.71     21424\n",
      "         neu       0.85      0.78      0.81     10611\n",
      "         pos       0.69      0.67      0.68     20519\n",
      "\n",
      "    accuracy                           0.72     52554\n",
      "   macro avg       0.74      0.73      0.73     52554\n",
      "weighted avg       0.72      0.72      0.72     52554\n",
      "\n",
      "\n",
      "Confusion Matrix : \n",
      " [[15853   602  4969]\n",
      " [ 1255  8226  1130]\n",
      " [ 5959   860 13700]]\n"
     ]
    },
    {
     "data": {
      "image/png": "[encoded data removed]",
      "text/plain": [
       "<Figure size 432x288 with 2 Axes>"
      ]
     },
     "metadata": {
      "needs_background": "light"
     },
     "output_type": "display_data"
    }
   ],
   "source": [
    "rf_model = RandomForestClassifier()\n",
    "rf_model.fit(X_train, y_train)\n",
    "pred_rf = rf_model.predict(X_test)\n",
    "result_rf = modelEvaluation(pred_rf, y_test, 'Random Forest')"
   ]
  },
  {
   "cell_type": "code",
   "execution_count": 14,
   "metadata": {},
   "outputs": [
    {
     "name": "stdout",
     "output_type": "stream",
     "text": [
      "========== Naive Bayes ==========\n",
      "\n",
      "Accuracy on validation set: 0.7154\n",
      "\n",
      "Classification report : \n",
      "               precision    recall  f1-score   support\n",
      "\n",
      "         neg       0.67      0.81      0.73     21424\n",
      "         neu       0.96      0.65      0.78     10611\n",
      "         pos       0.69      0.65      0.67     20519\n",
      "\n",
      "    accuracy                           0.72     52554\n",
      "   macro avg       0.77      0.70      0.73     52554\n",
      "weighted avg       0.74      0.72      0.72     52554\n",
      "\n",
      "\n",
      "Confusion Matrix : \n",
      " [[17271    97  4056]\n",
      " [ 1663  6900  2048]\n",
      " [ 6922   169 13428]]\n"
     ]
    },
    {
     "data": {
      "image/png": "[encoded data removed]",
      "text/plain": [
       "<Figure size 432x288 with 2 Axes>"
      ]
     },
     "metadata": {
      "needs_background": "light"
     },
     "output_type": "display_data"
    }
   ],
   "source": [
    "nb_model = MultinomialNB()\n",
    "nb_model.fit(X_train,y_train)\n",
    "pred_nb = nb_model.predict(X_test)\n",
    "results_nb = modelEvaluation(pred_nb, y_test, 'Naive Bayes')"
   ]
  },
  {
   "cell_type": "code",
   "execution_count": 15,
   "metadata": {},
   "outputs": [
    {
     "name": "stderr",
     "output_type": "stream",
     "text": [
      "/Users/maishaanika/opt/anaconda3/lib/python3.8/site-packages/sklearn/linear_model/_logistic.py:763: ConvergenceWarning: lbfgs failed to converge (status=1):\n",
      "STOP: TOTAL NO. of ITERATIONS REACHED LIMIT.\n",
      "\n",
      "Increase the number of iterations (max_iter) or scale the data as shown in:\n",
      "    https://scikit-learn.org/stable/modules/preprocessing.html\n",
      "Please also refer to the documentation for alternative solver options:\n",
      "    https://scikit-learn.org/stable/modules/linear_model.html#logistic-regression\n",
      "  n_iter_i = _check_optimize_result(\n"
     ]
    },
    {
     "name": "stdout",
     "output_type": "stream",
     "text": [
      "========== Logistic Regression ==========\n",
      "\n",
      "Accuracy on validation set: 0.7570\n",
      "\n",
      "Classification report : \n",
      "               precision    recall  f1-score   support\n",
      "\n",
      "         neg       0.75      0.74      0.74     21424\n",
      "         neu       0.85      0.86      0.86     10611\n",
      "         pos       0.72      0.72      0.72     20519\n",
      "\n",
      "    accuracy                           0.76     52554\n",
      "   macro avg       0.77      0.77      0.77     52554\n",
      "weighted avg       0.76      0.76      0.76     52554\n",
      "\n",
      "\n",
      "Confusion Matrix : \n",
      " [[15802   668  4954]\n",
      " [  548  9174   889]\n",
      " [ 4726   984 14809]]\n"
     ]
    },
    {
     "data": {
      "image/png": "[encoded data removed]",
      "text/plain": [
       "<Figure size 432x288 with 2 Axes>"
      ]
     },
     "metadata": {
      "needs_background": "light"
     },
     "output_type": "display_data"
    }
   ],
   "source": [
    "lr_model = LogisticRegression()\n",
    "lr_model.fit(X_train, y_train)\n",
    "pred_lr = lr_model.predict(X_test)\n",
    "results_lr = modelEvaluation(pred_lr, y_test, 'Logistic Regression')"
   ]
  },
  {
   "cell_type": "code",
   "execution_count": 20,
   "metadata": {},
   "outputs": [
    {
     "name": "stdout",
     "output_type": "stream",
     "text": [
      "+-----------+------------------------+---------------+-----------------+-----------------+\n",
      "| Metrics   |   Logistics Regression |   Naive Bayes |   Random Forest |   Decision tree |\n",
      "|-----------+------------------------+---------------+-----------------+-----------------|\n",
      "| accuracy  |               0.757031 |      0.715436 |        0.718861 |        0.633406 |\n",
      "| precision |               0.771414 |      0.772779 |        0.742768 |        0.65997  |\n",
      "| recall    |               0.774627 |      0.703613 |        0.727624 |        0.638667 |\n",
      "| f1-score  |               0.772972 |      0.725804 |        0.73424  |        0.647856 |\n",
      "+-----------+------------------------+---------------+-----------------+-----------------+\n"
     ]
    }
   ],
   "source": [
    "from tabulate import tabulate\n",
    "# showing all models result\n",
    "dic = {\n",
    "    'Metrics':['accuracy','precision','recall','f1-score'],\n",
    "    'Logistics Regression' : results_lr,\n",
    "    'Naive Bayes' : results_nb,\n",
    "    'Random Forest' : result_rf,\n",
    "    'Decision tree' : result_dt\n",
    "}\n",
    "metrics_df = pd.DataFrame(dic)\n",
    "\n",
    "metrics_df = metrics_df.set_index('Metrics')\n",
    "# displaying the DataFrame\n",
    "print(tabulate(metrics_df, headers = 'keys', tablefmt = 'psql'))"
   ]
  },
  {
   "cell_type": "code",
   "execution_count": 21,
   "metadata": {},
   "outputs": [
    {
     "data": {
      "image/png": "[encoded data removed]",
      "text/plain": [
       "<Figure size 1080x576 with 1 Axes>"
      ]
     },
     "metadata": {
      "needs_background": "light"
     },
     "output_type": "display_data"
    }
   ],
   "source": [
    "metrics_df.plot(kind='bar', figsize=(15,8))\n",
    "plt.show()"
   ]
  },
  {
   "cell_type": "code",
   "execution_count": 22,
   "metadata": {},
   "outputs": [
    {
     "data": {
      "image/png": "[encoded data removed]",
      "text/plain": [
       "<Figure size 1080x360 with 1 Axes>"
      ]
     },
     "metadata": {
      "needs_background": "light"
     },
     "output_type": "display_data"
    }
   ],
   "source": [
    "models_acc = metrics_df.iloc[0].tolist()\n",
    "models_names = metrics_df.columns.tolist()\n",
    "plt.figure(figsize=(15,5))\n",
    "plt.bar(models_names,models_acc)\n",
    "plt.title(\"Models Accuracy\", fontsize=18)\n",
    "\n",
    "def addLabels(names,acc):\n",
    "    for i in range(len(names)):\n",
    "        plt.text(i,round(acc[i],2),f\"{round(acc[i],2)}%\", ha = 'center', bbox=dict(facecolor='yellow', alpha=0.9))\n",
    "\n",
    "addLabels(models_names,models_acc)\n",
    "plt.show()"
   ]
  }
 ],
 "metadata": {
  "kernelspec": {
   "display_name": "Python 3 (ipykernel)",
   "language": "python",
   "name": "python3"
  },
  "language_info": {
   "codemirror_mode": {
    "name": "ipython",
    "version": 3
   },
   "file_extension": ".py",
   "mimetype": "text/x-python",
   "name": "python",
   "nbconvert_exporter": "python",
   "pygments_lexer": "ipython3",
   "version": "3.8.5"
  }
 },
 "nbformat": 4,
 "nbformat_minor": 4
}
