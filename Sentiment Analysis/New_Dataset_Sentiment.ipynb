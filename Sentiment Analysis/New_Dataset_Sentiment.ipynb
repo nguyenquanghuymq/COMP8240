{
  "nbformat": 4,
  "nbformat_minor": 0,
  "metadata": {
    "colab": {
      "name": "New Dataset-Sentiment.ipynb",
      "provenance": [],
      "authorship_tag": "ABX9TyOxPk5GXGEP1X0a3BD3vkPF",
      "include_colab_link": true
    },
    "kernelspec": {
      "name": "python3",
      "display_name": "Python 3"
    },
    "language_info": {
      "name": "python"
    }
  },
  "cells": [
    {
      "cell_type": "markdown",
      "metadata": {
        "id": "view-in-github",
        "colab_type": "text"
      },
      "source": [
        "<a href=\"https://colab.research.google.com/github/namratakatti10/COMP8240/blob/main/New_Dataset_Sentiment.ipynb\" target=\"_parent\"><img src=\"https://colab.research.google.com/assets/colab-badge.svg\" alt=\"Open In Colab\"/></a>"
      ]
    },
    {
      "cell_type": "code",
      "metadata": {
        "id": "gVBwAcivT7wL"
      },
      "source": [
        "import pandas as pd"
      ],
      "execution_count": 55,
      "outputs": []
    },
    {
      "cell_type": "code",
      "metadata": {
        "id": "_zgsCtjPOfva"
      },
      "source": [
        "df = pd.read_csv('New-Tweet-dataset-Maisha.csv')"
      ],
      "execution_count": 56,
      "outputs": []
    },
    {
      "cell_type": "code",
      "metadata": {
        "id": "xy-XcScciGGD"
      },
      "source": [
        "df_2 = df.copy()"
      ],
      "execution_count": 57,
      "outputs": []
    },
    {
      "cell_type": "code",
      "metadata": {
        "colab": {
          "base_uri": "https://localhost:8080/"
        },
        "id": "ciuvWYmUiLVt",
        "outputId": "3a834ae0-65bb-433d-c05e-cd5fa0c24a2d"
      },
      "source": [
        "for idx in range(len(df_2)):\n",
        "  df_2['sentence'].iloc[idx] = re.sub('\\W+', ' ', df_2['sentence'].iloc[idx])\n",
        "\n",
        "df_2['sentence']"
      ],
      "execution_count": 58,
      "outputs": [
        {
          "output_type": "stream",
          "name": "stderr",
          "text": [
            "/usr/local/lib/python3.7/dist-packages/pandas/core/indexing.py:670: SettingWithCopyWarning: \n",
            "A value is trying to be set on a copy of a slice from a DataFrame\n",
            "\n",
            "See the caveats in the documentation: https://pandas.pydata.org/pandas-docs/stable/user_guide/indexing.html#returning-a-view-versus-a-copy\n",
            "  iloc._setitem_with_indexer(indexer, value)\n"
          ]
        },
        {
          "output_type": "execute_result",
          "data": {
            "text/plain": [
              "0                        oh no so sorry about your pets \n",
              "1      you should i love prison break i only have til...\n",
              "2      i saw some really nice pair of shoess couldnt ...\n",
              "3      hihihi i had fun but my foot is still hurting ...\n",
              "4      sourish limbs is preventing me from gg out on ...\n",
              "                             ...                        \n",
              "545     a_n_g_e_l_i_n_e just overworked but thanks an...\n",
              "546     caramel macchiato to pep me up i hate it when...\n",
              "547         ashtonteal that s so sad shes from back home\n",
              "548     i ve mayo blood so the flag is flying high in...\n",
              "549                 10 of the oldest cities in the world\n",
              "Name: sentence, Length: 550, dtype: object"
            ]
          },
          "metadata": {},
          "execution_count": 58
        }
      ]
    },
    {
      "cell_type": "code",
      "metadata": {
        "id": "UWwM1soKOxQh"
      },
      "source": [
        "pip install pandas-tfrecords"
      ],
      "execution_count": 59,
      "outputs": []
    },
    {
      "cell_type": "code",
      "metadata": {
        "id": "_bt7LoylOxeP"
      },
      "source": [
        "from pandas_tfrecords import pd2tf, tf2pd\n",
        "\n",
        "pd2tf(df_3, './tfrecords_forder')\n",
        "my_df = tf2pd('./tfrecords_forder')"
      ],
      "execution_count": 70,
      "outputs": []
    },
    {
      "cell_type": "code",
      "metadata": {
        "colab": {
          "base_uri": "https://localhost:8080/",
          "height": 419
        },
        "id": "Fx0FCaQvOxhV",
        "outputId": "47675016-6d0c-4a93-fe8b-cf5d1d808bd6"
      },
      "source": [
        "df"
      ],
      "execution_count": 6,
      "outputs": [
        {
          "output_type": "execute_result",
          "data": {
            "text/html": [
              "<div>\n",
              "<style scoped>\n",
              "    .dataframe tbody tr th:only-of-type {\n",
              "        vertical-align: middle;\n",
              "    }\n",
              "\n",
              "    .dataframe tbody tr th {\n",
              "        vertical-align: top;\n",
              "    }\n",
              "\n",
              "    .dataframe thead th {\n",
              "        text-align: right;\n",
              "    }\n",
              "</style>\n",
              "<table border=\"1\" class=\"dataframe\">\n",
              "  <thead>\n",
              "    <tr style=\"text-align: right;\">\n",
              "      <th></th>\n",
              "      <th>idx</th>\n",
              "      <th>label</th>\n",
              "      <th>sentence</th>\n",
              "    </tr>\n",
              "  </thead>\n",
              "  <tbody>\n",
              "    <tr>\n",
              "      <th>0</th>\n",
              "      <td>1</td>\n",
              "      <td>0</td>\n",
              "      <td>oh no! so sorry about your pets..</td>\n",
              "    </tr>\n",
              "    <tr>\n",
              "      <th>1</th>\n",
              "      <td>2</td>\n",
              "      <td>1</td>\n",
              "      <td>you should! i love prison break.i only have ti...</td>\n",
              "    </tr>\n",
              "    <tr>\n",
              "      <th>2</th>\n",
              "      <td>3</td>\n",
              "      <td>1</td>\n",
              "      <td>i saw some really nice pair of shoess.. couldn...</td>\n",
              "    </tr>\n",
              "    <tr>\n",
              "      <th>3</th>\n",
              "      <td>4</td>\n",
              "      <td>0</td>\n",
              "      <td>hihihi i had fun but my foot is still hurting!...</td>\n",
              "    </tr>\n",
              "    <tr>\n",
              "      <th>4</th>\n",
              "      <td>5</td>\n",
              "      <td>0</td>\n",
              "      <td>sourish limbs is preventing me from gg out on ...</td>\n",
              "    </tr>\n",
              "    <tr>\n",
              "      <th>...</th>\n",
              "      <td>...</td>\n",
              "      <td>...</td>\n",
              "      <td>...</td>\n",
              "    </tr>\n",
              "    <tr>\n",
              "      <th>545</th>\n",
              "      <td>547</td>\n",
              "      <td>0</td>\n",
              "      <td>548,@a_n_g_e_l_i_n_e just overworked but thank...</td>\n",
              "    </tr>\n",
              "    <tr>\n",
              "      <th>546</th>\n",
              "      <td>548</td>\n",
              "      <td>0</td>\n",
              "      <td>549,caramel macchiato to pep me up. i hate it ...</td>\n",
              "    </tr>\n",
              "    <tr>\n",
              "      <th>547</th>\n",
              "      <td>549</td>\n",
              "      <td>1</td>\n",
              "      <td>550,@ashtonteal that's so sad...shes from back...</td>\n",
              "    </tr>\n",
              "    <tr>\n",
              "      <th>548</th>\n",
              "      <td>550</td>\n",
              "      <td>0</td>\n",
              "      <td>551,i've mayo blood so the flag is flying high...</td>\n",
              "    </tr>\n",
              "    <tr>\n",
              "      <th>549</th>\n",
              "      <td>551</td>\n",
              "      <td>10</td>\n",
              "      <td>552,10 of the oldest cities in the world</td>\n",
              "    </tr>\n",
              "  </tbody>\n",
              "</table>\n",
              "<p>550 rows × 3 columns</p>\n",
              "</div>"
            ],
            "text/plain": [
              "     idx  label                                           sentence\n",
              "0      1      0                  oh no! so sorry about your pets..\n",
              "1      2      1  you should! i love prison break.i only have ti...\n",
              "2      3      1  i saw some really nice pair of shoess.. couldn...\n",
              "3      4      0  hihihi i had fun but my foot is still hurting!...\n",
              "4      5      0  sourish limbs is preventing me from gg out on ...\n",
              "..   ...    ...                                                ...\n",
              "545  547      0  548,@a_n_g_e_l_i_n_e just overworked but thank...\n",
              "546  548      0  549,caramel macchiato to pep me up. i hate it ...\n",
              "547  549      1  550,@ashtonteal that's so sad...shes from back...\n",
              "548  550      0  551,i've mayo blood so the flag is flying high...\n",
              "549  551     10           552,10 of the oldest cities in the world\n",
              "\n",
              "[550 rows x 3 columns]"
            ]
          },
          "metadata": {},
          "execution_count": 6
        }
      ]
    },
    {
      "cell_type": "code",
      "metadata": {
        "colab": {
          "base_uri": "https://localhost:8080/",
          "height": 35
        },
        "id": "K1DyTag3bNzD",
        "outputId": "7f417b52-6468-47ab-c121-66192a55a765"
      },
      "source": [
        "a = df['sentence'].iloc[547]\n",
        "a"
      ],
      "execution_count": 39,
      "outputs": [
        {
          "output_type": "execute_result",
          "data": {
            "application/vnd.google.colaboratory.intrinsic+json": {
              "type": "string"
            },
            "text/plain": [
              "'oh no! so sorry about your pets..'"
            ]
          },
          "metadata": {},
          "execution_count": 39
        }
      ]
    },
    {
      "cell_type": "code",
      "metadata": {
        "colab": {
          "base_uri": "https://localhost:8080/",
          "height": 35
        },
        "id": "FFtCLLyPblrj",
        "outputId": "713b722a-cdca-44a6-aa43-0fb196f28258"
      },
      "source": [
        "a = df['sentence'].iloc[135]\n",
        "a = re.sub('\\W+', ' ', a)\n",
        "a\n"
      ],
      "execution_count": 44,
      "outputs": [
        {
          "output_type": "execute_result",
          "data": {
            "application/vnd.google.colaboratory.intrinsic+json": {
              "type": "string"
            },
            "text/plain": [
              "'winenvinyl the groove continues tomorrow Ä îafter party at kensington roof free 10 12am for w '"
            ]
          },
          "metadata": {},
          "execution_count": 44
        }
      ]
    },
    {
      "cell_type": "code",
      "metadata": {
        "colab": {
          "base_uri": "https://localhost:8080/"
        },
        "id": "TCbn2GYWdsvG",
        "outputId": "5381f8d2-2f89-4b7c-a91a-2349ff84f5c2"
      },
      "source": [
        "df['sentence']"
      ],
      "execution_count": 46,
      "outputs": [
        {
          "output_type": "execute_result",
          "data": {
            "text/plain": [
              "0                      oh no! so sorry about your pets..\n",
              "1      you should! i love prison break.i only have ti...\n",
              "2      i saw some really nice pair of shoess.. couldn...\n",
              "3      hihihi i had fun but my foot is still hurting!...\n",
              "4      sourish limbs is preventing me from gg out on ...\n",
              "                             ...                        \n",
              "545    548,@a_n_g_e_l_i_n_e just overworked but thank...\n",
              "546    549,caramel macchiato to pep me up. i hate it ...\n",
              "547    550,@ashtonteal that's so sad...shes from back...\n",
              "548    551,i've mayo blood so the flag is flying high...\n",
              "549             552,10 of the oldest cities in the world\n",
              "Name: sentence, Length: 550, dtype: object"
            ]
          },
          "metadata": {},
          "execution_count": 46
        }
      ]
    },
    {
      "cell_type": "code",
      "metadata": {
        "colab": {
          "base_uri": "https://localhost:8080/",
          "height": 35
        },
        "id": "8I-ylr3beExL",
        "outputId": "f1a727de-5567-4b83-e081-2d426c6d4763"
      },
      "source": [
        "a = df_2['sentence'].iloc[545]\n",
        "a = re.sub('\\W+', ' ', a)\n",
        "a"
      ],
      "execution_count": 48,
      "outputs": [
        {
          "output_type": "execute_result",
          "data": {
            "application/vnd.google.colaboratory.intrinsic+json": {
              "type": "string"
            },
            "text/plain": [
              "'548 a_n_g_e_l_i_n_e just overworked but thanks and i love when episodes repeat overseas bring on th'"
            ]
          },
          "metadata": {},
          "execution_count": 48
        }
      ]
    },
    {
      "cell_type": "code",
      "metadata": {
        "id": "VHF7naXYeE98"
      },
      "source": [
        ""
      ],
      "execution_count": null,
      "outputs": []
    },
    {
      "cell_type": "code",
      "metadata": {
        "id": "Dx81sGTOdGnU"
      },
      "source": [
        "df_2 = df.copy()"
      ],
      "execution_count": 45,
      "outputs": []
    },
    {
      "cell_type": "code",
      "metadata": {
        "colab": {
          "base_uri": "https://localhost:8080/"
        },
        "id": "PgeCg-ahdQsw",
        "outputId": "b2bdc9aa-696a-4e2f-dae3-fcb8f692e6b4"
      },
      "source": [
        "for idx in range(len(df_2)):\n",
        "  df_2['sentence'].iloc[idx] = re.sub('\\W+', ' ', df_2['sentence'].iloc[idx])\n",
        "\n",
        "df_2['sentence']"
      ],
      "execution_count": 49,
      "outputs": [
        {
          "output_type": "stream",
          "name": "stderr",
          "text": [
            "/usr/local/lib/python3.7/dist-packages/pandas/core/indexing.py:670: SettingWithCopyWarning: \n",
            "A value is trying to be set on a copy of a slice from a DataFrame\n",
            "\n",
            "See the caveats in the documentation: https://pandas.pydata.org/pandas-docs/stable/user_guide/indexing.html#returning-a-view-versus-a-copy\n",
            "  iloc._setitem_with_indexer(indexer, value)\n"
          ]
        },
        {
          "output_type": "execute_result",
          "data": {
            "text/plain": [
              "0                        oh no so sorry about your pets \n",
              "1      you should i love prison break i only have til...\n",
              "2      i saw some really nice pair of shoess couldnt ...\n",
              "3      hihihi i had fun but my foot is still hurting ...\n",
              "4      sourish limbs is preventing me from gg out on ...\n",
              "                             ...                        \n",
              "545    548 a_n_g_e_l_i_n_e just overworked but thanks...\n",
              "546    549 caramel macchiato to pep me up i hate it w...\n",
              "547     550 ashtonteal that s so sad shes from back home\n",
              "548    551 i ve mayo blood so the flag is flying high...\n",
              "549             552 10 of the oldest cities in the world\n",
              "Name: sentence, Length: 550, dtype: object"
            ]
          },
          "metadata": {},
          "execution_count": 49
        }
      ]
    },
    {
      "cell_type": "code",
      "metadata": {
        "id": "P7p9QnS1l5FW"
      },
      "source": [
        "df_3 = df_2.drop(df_2[df_2['label']==10].index)"
      ],
      "execution_count": 67,
      "outputs": []
    },
    {
      "cell_type": "code",
      "metadata": {
        "colab": {
          "base_uri": "https://localhost:8080/",
          "height": 49
        },
        "id": "RM_U2ePNmkLN",
        "outputId": "ed65841f-e300-446d-b0a3-5a44988822da"
      },
      "source": [
        "df_3[df_3['label']==10]"
      ],
      "execution_count": 69,
      "outputs": [
        {
          "output_type": "execute_result",
          "data": {
            "text/html": [
              "<div>\n",
              "<style scoped>\n",
              "    .dataframe tbody tr th:only-of-type {\n",
              "        vertical-align: middle;\n",
              "    }\n",
              "\n",
              "    .dataframe tbody tr th {\n",
              "        vertical-align: top;\n",
              "    }\n",
              "\n",
              "    .dataframe thead th {\n",
              "        text-align: right;\n",
              "    }\n",
              "</style>\n",
              "<table border=\"1\" class=\"dataframe\">\n",
              "  <thead>\n",
              "    <tr style=\"text-align: right;\">\n",
              "      <th></th>\n",
              "      <th>idx</th>\n",
              "      <th>label</th>\n",
              "      <th>sentence</th>\n",
              "    </tr>\n",
              "  </thead>\n",
              "  <tbody>\n",
              "  </tbody>\n",
              "</table>\n",
              "</div>"
            ],
            "text/plain": [
              "Empty DataFrame\n",
              "Columns: [idx, label, sentence]\n",
              "Index: []"
            ]
          },
          "metadata": {},
          "execution_count": 69
        }
      ]
    }
  ]
}